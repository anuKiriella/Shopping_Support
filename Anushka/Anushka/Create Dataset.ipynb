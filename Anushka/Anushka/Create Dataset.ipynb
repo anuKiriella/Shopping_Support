{
 "cells": [
  {
   "cell_type": "code",
   "execution_count": 5,
   "id": "37a87a22",
   "metadata": {},
   "outputs": [],
   "source": [
    "import random\n",
    "\n",
    "colors = ['red', 'blue', 'green', 'black', 'white', 'yello', 'pink', 'orange', 'purple', 'grey', 'brown', 'maroon']\n",
    "dress_types = ['t-shirt', 'shirt', 'skirt', 'frock', 'night dress', 'blouse', 'trouser', 'shorts']\n",
    "skin_tones = ['#EBCCAB', '#D2996C', '#C37C4D', '#B66B3E', '#8E4B32']\n",
    "matches = [0, 1]\n",
    "\n",
    "dataset = []\n",
    "\n",
    "for _ in range(10000):\n",
    "    color = random.choice(colors)\n",
    "    dress_type = random.choice(dress_types)\n",
    "    skin_tone = random.choice(skin_tones)\n",
    "    match = random.choice(matches)\n",
    "    \n",
    "    dataset.append([color, dress_type, skin_tone, match])\n"
   ]
  },
  {
   "cell_type": "code",
   "execution_count": 6,
   "id": "7f4030bd",
   "metadata": {},
   "outputs": [],
   "source": [
    "import csv\n",
    "\n",
    "header = ['colors', 'dress_type', 'skin_tone', 'is_match']\n",
    "\n",
    "with open('dataset.csv', 'w', newline='') as file:\n",
    "    writer = csv.writer(file)\n",
    "    writer.writerow(header)\n",
    "    writer.writerows(dataset)\n"
   ]
  },
  {
   "cell_type": "code",
   "execution_count": 7,
   "id": "9ead5d74",
   "metadata": {},
   "outputs": [],
   "source": [
    "import pandas as pd"
   ]
  },
  {
   "cell_type": "code",
   "execution_count": 8,
   "id": "4cc9d853",
   "metadata": {},
   "outputs": [],
   "source": [
    "data = pd.read_csv('dataset.csv')"
   ]
  },
  {
   "cell_type": "code",
   "execution_count": 9,
   "id": "bab1dcf4",
   "metadata": {},
   "outputs": [
    {
     "data": {
      "text/html": [
       "<div>\n",
       "<style scoped>\n",
       "    .dataframe tbody tr th:only-of-type {\n",
       "        vertical-align: middle;\n",
       "    }\n",
       "\n",
       "    .dataframe tbody tr th {\n",
       "        vertical-align: top;\n",
       "    }\n",
       "\n",
       "    .dataframe thead th {\n",
       "        text-align: right;\n",
       "    }\n",
       "</style>\n",
       "<table border=\"1\" class=\"dataframe\">\n",
       "  <thead>\n",
       "    <tr style=\"text-align: right;\">\n",
       "      <th></th>\n",
       "      <th>colors</th>\n",
       "      <th>dress_type</th>\n",
       "      <th>skin_tone</th>\n",
       "      <th>is_match</th>\n",
       "    </tr>\n",
       "  </thead>\n",
       "  <tbody>\n",
       "    <tr>\n",
       "      <th>0</th>\n",
       "      <td>maroon</td>\n",
       "      <td>skirt</td>\n",
       "      <td>#B66B3E</td>\n",
       "      <td>0</td>\n",
       "    </tr>\n",
       "    <tr>\n",
       "      <th>1</th>\n",
       "      <td>orange</td>\n",
       "      <td>shirt</td>\n",
       "      <td>#D2996C</td>\n",
       "      <td>0</td>\n",
       "    </tr>\n",
       "    <tr>\n",
       "      <th>2</th>\n",
       "      <td>yello</td>\n",
       "      <td>skirt</td>\n",
       "      <td>#C37C4D</td>\n",
       "      <td>1</td>\n",
       "    </tr>\n",
       "    <tr>\n",
       "      <th>3</th>\n",
       "      <td>brown</td>\n",
       "      <td>frock</td>\n",
       "      <td>#D2996C</td>\n",
       "      <td>1</td>\n",
       "    </tr>\n",
       "    <tr>\n",
       "      <th>4</th>\n",
       "      <td>orange</td>\n",
       "      <td>shirt</td>\n",
       "      <td>#C37C4D</td>\n",
       "      <td>0</td>\n",
       "    </tr>\n",
       "  </tbody>\n",
       "</table>\n",
       "</div>"
      ],
      "text/plain": [
       "   colors dress_type skin_tone  is_match\n",
       "0  maroon      skirt   #B66B3E         0\n",
       "1  orange      shirt   #D2996C         0\n",
       "2   yello      skirt   #C37C4D         1\n",
       "3   brown      frock   #D2996C         1\n",
       "4  orange      shirt   #C37C4D         0"
      ]
     },
     "execution_count": 9,
     "metadata": {},
     "output_type": "execute_result"
    }
   ],
   "source": [
    "data.head(5)"
   ]
  },
  {
   "cell_type": "code",
   "execution_count": 11,
   "id": "2730c20e",
   "metadata": {},
   "outputs": [
    {
     "data": {
      "text/plain": [
       "1    5002\n",
       "0    4998\n",
       "Name: is_match, dtype: int64"
      ]
     },
     "execution_count": 11,
     "metadata": {},
     "output_type": "execute_result"
    }
   ],
   "source": [
    "data['is_match'].value_counts()"
   ]
  },
  {
   "cell_type": "code",
   "execution_count": null,
   "id": "7fe49e6d",
   "metadata": {},
   "outputs": [],
   "source": []
  }
 ],
 "metadata": {
  "kernelspec": {
   "display_name": "Python 3 (ipykernel)",
   "language": "python",
   "name": "python3"
  },
  "language_info": {
   "codemirror_mode": {
    "name": "ipython",
    "version": 3
   },
   "file_extension": ".py",
   "mimetype": "text/x-python",
   "name": "python",
   "nbconvert_exporter": "python",
   "pygments_lexer": "ipython3",
   "version": "3.9.13"
  }
 },
 "nbformat": 4,
 "nbformat_minor": 5
}
